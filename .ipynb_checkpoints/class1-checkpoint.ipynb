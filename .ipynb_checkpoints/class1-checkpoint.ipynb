{
 "cells": [
  {
   "cell_type": "code",
   "execution_count": 1,
   "id": "7f812fe9",
   "metadata": {},
   "outputs": [
    {
     "data": {
      "text/plain": [
       "'hello'"
      ]
     },
     "execution_count": 1,
     "metadata": {},
     "output_type": "execute_result"
    }
   ],
   "source": [
    "'hello'"
   ]
  },
  {
   "cell_type": "code",
   "execution_count": 2,
   "id": "146ab86a",
   "metadata": {},
   "outputs": [
    {
     "data": {
      "text/plain": [
       "'World'"
      ]
     },
     "execution_count": 2,
     "metadata": {},
     "output_type": "execute_result"
    }
   ],
   "source": [
    "\"World\""
   ]
  },
  {
   "cell_type": "code",
   "execution_count": 4,
   "id": "7cb0c4f2",
   "metadata": {},
   "outputs": [
    {
     "data": {
      "text/plain": [
       "\"Thi's is also string\""
      ]
     },
     "execution_count": 4,
     "metadata": {},
     "output_type": "execute_result"
    }
   ],
   "source": [
    "\"Thi's is also string\""
   ]
  },
  {
   "cell_type": "code",
   "execution_count": 6,
   "id": "353e2533",
   "metadata": {},
   "outputs": [
    {
     "name": "stdout",
     "output_type": "stream",
     "text": [
      "Hello World one\n",
      "Hellow world Two\n"
     ]
    }
   ],
   "source": [
    "print(\"Hello World one\")\n",
    "print(\"Hellow world Two\")"
   ]
  },
  {
   "cell_type": "code",
   "execution_count": 9,
   "id": "9c27fd33",
   "metadata": {},
   "outputs": [
    {
     "name": "stdout",
     "output_type": "stream",
     "text": [
      "Hellow world one\\Hello world Two\n"
     ]
    }
   ],
   "source": [
    "print(\"Hellow world one\\\\Hello world Two\")"
   ]
  },
  {
   "cell_type": "code",
   "execution_count": 11,
   "id": "c3f2e53c",
   "metadata": {},
   "outputs": [
    {
     "data": {
      "text/plain": [
       "6"
      ]
     },
     "execution_count": 11,
     "metadata": {},
     "output_type": "execute_result"
    }
   ],
   "source": [
    "len('H ello')"
   ]
  },
  {
   "cell_type": "code",
   "execution_count": 12,
   "id": "bbcbf5d1",
   "metadata": {},
   "outputs": [],
   "source": [
    "mystring=\"Hello World\""
   ]
  },
  {
   "cell_type": "code",
   "execution_count": 13,
   "id": "4af7137c",
   "metadata": {},
   "outputs": [
    {
     "data": {
      "text/plain": [
       "'Hello World'"
      ]
     },
     "execution_count": 13,
     "metadata": {},
     "output_type": "execute_result"
    }
   ],
   "source": [
    "mystring"
   ]
  },
  {
   "cell_type": "code",
   "execution_count": 15,
   "id": "9dcfd18e",
   "metadata": {},
   "outputs": [
    {
     "name": "stdout",
     "output_type": "stream",
     "text": [
      "Hello World\n"
     ]
    }
   ],
   "source": [
    "print(mystring)"
   ]
  },
  {
   "cell_type": "code",
   "execution_count": 16,
   "id": "e172af4e",
   "metadata": {},
   "outputs": [
    {
     "data": {
      "text/plain": [
       "'H'"
      ]
     },
     "execution_count": 16,
     "metadata": {},
     "output_type": "execute_result"
    }
   ],
   "source": [
    "mystring[0]"
   ]
  },
  {
   "cell_type": "code",
   "execution_count": 17,
   "id": "b2ff920d",
   "metadata": {},
   "outputs": [
    {
     "data": {
      "text/plain": [
       "'r'"
      ]
     },
     "execution_count": 17,
     "metadata": {},
     "output_type": "execute_result"
    }
   ],
   "source": [
    "mystring[8]"
   ]
  },
  {
   "cell_type": "code",
   "execution_count": 19,
   "id": "90ba1694",
   "metadata": {},
   "outputs": [
    {
     "data": {
      "text/plain": [
       "'l'"
      ]
     },
     "execution_count": 19,
     "metadata": {},
     "output_type": "execute_result"
    }
   ],
   "source": [
    "mystring[-2]"
   ]
  },
  {
   "cell_type": "code",
   "execution_count": 20,
   "id": "b97adf6a",
   "metadata": {},
   "outputs": [],
   "source": [
    "mystring='abcdefghijk'"
   ]
  },
  {
   "cell_type": "code",
   "execution_count": 21,
   "id": "8c1e9f5e",
   "metadata": {},
   "outputs": [
    {
     "data": {
      "text/plain": [
       "'cdefghijk'"
      ]
     },
     "execution_count": 21,
     "metadata": {},
     "output_type": "execute_result"
    }
   ],
   "source": [
    "mystring[2:]"
   ]
  },
  {
   "cell_type": "code",
   "execution_count": 22,
   "id": "67cd170b",
   "metadata": {},
   "outputs": [
    {
     "data": {
      "text/plain": [
       "'abc'"
      ]
     },
     "execution_count": 22,
     "metadata": {},
     "output_type": "execute_result"
    }
   ],
   "source": [
    "mystring[:3]"
   ]
  },
  {
   "cell_type": "code",
   "execution_count": 23,
   "id": "d68703b3",
   "metadata": {},
   "outputs": [
    {
     "data": {
      "text/plain": [
       "'def'"
      ]
     },
     "execution_count": 23,
     "metadata": {},
     "output_type": "execute_result"
    }
   ],
   "source": [
    "mystring[3:6]"
   ]
  },
  {
   "cell_type": "code",
   "execution_count": 24,
   "id": "ad3fcb7d",
   "metadata": {},
   "outputs": [
    {
     "data": {
      "text/plain": [
       "'bc'"
      ]
     },
     "execution_count": 24,
     "metadata": {},
     "output_type": "execute_result"
    }
   ],
   "source": [
    "mystring[1:3]"
   ]
  },
  {
   "cell_type": "code",
   "execution_count": 25,
   "id": "d19db8aa",
   "metadata": {},
   "outputs": [
    {
     "data": {
      "text/plain": [
       "'abcdefghijk'"
      ]
     },
     "execution_count": 25,
     "metadata": {},
     "output_type": "execute_result"
    }
   ],
   "source": [
    "mystring[::]"
   ]
  },
  {
   "cell_type": "code",
   "execution_count": 26,
   "id": "d8402144",
   "metadata": {},
   "outputs": [
    {
     "data": {
      "text/plain": [
       "'acegik'"
      ]
     },
     "execution_count": 26,
     "metadata": {},
     "output_type": "execute_result"
    }
   ],
   "source": [
    "mystring[::2]"
   ]
  },
  {
   "cell_type": "code",
   "execution_count": 27,
   "id": "878f7a33",
   "metadata": {},
   "outputs": [
    {
     "data": {
      "text/plain": [
       "'ceg'"
      ]
     },
     "execution_count": 27,
     "metadata": {},
     "output_type": "execute_result"
    }
   ],
   "source": [
    "mystring[2:7:2]"
   ]
  },
  {
   "cell_type": "code",
   "execution_count": 28,
   "id": "85f9f700",
   "metadata": {},
   "outputs": [
    {
     "data": {
      "text/plain": [
       "'kjihgfedcba'"
      ]
     },
     "execution_count": 28,
     "metadata": {},
     "output_type": "execute_result"
    }
   ],
   "source": [
    "mystring[::-1]"
   ]
  },
  {
   "cell_type": "code",
   "execution_count": 29,
   "id": "95996bf1",
   "metadata": {},
   "outputs": [],
   "source": [
    "name=\"Sam\""
   ]
  },
  {
   "cell_type": "code",
   "execution_count": 30,
   "id": "cd3687f9",
   "metadata": {},
   "outputs": [
    {
     "data": {
      "text/plain": [
       "'S'"
      ]
     },
     "execution_count": 30,
     "metadata": {},
     "output_type": "execute_result"
    }
   ],
   "source": [
    "name[0]"
   ]
  },
  {
   "cell_type": "code",
   "execution_count": 32,
   "id": "0c69c997",
   "metadata": {},
   "outputs": [
    {
     "ename": "TypeError",
     "evalue": "'str' object does not support item assignment",
     "output_type": "error",
     "traceback": [
      "\u001b[1;31m---------------------------------------------------------------------------\u001b[0m",
      "\u001b[1;31mTypeError\u001b[0m                                 Traceback (most recent call last)",
      "Cell \u001b[1;32mIn[32], line 1\u001b[0m\n\u001b[1;32m----> 1\u001b[0m mystring[\u001b[38;5;241m0\u001b[39m]\u001b[38;5;241m=\u001b[39m\u001b[38;5;124m'\u001b[39m\u001b[38;5;124mP\u001b[39m\u001b[38;5;124m'\u001b[39m\n",
      "\u001b[1;31mTypeError\u001b[0m: 'str' object does not support item assignment"
     ]
    }
   ],
   "source": [
    "mystring[0]='P'"
   ]
  },
  {
   "cell_type": "code",
   "execution_count": 33,
   "id": "f4d3e861",
   "metadata": {},
   "outputs": [],
   "source": [
    "last_letters= name[1:]"
   ]
  },
  {
   "cell_type": "code",
   "execution_count": 34,
   "id": "2b4b4a64",
   "metadata": {},
   "outputs": [
    {
     "data": {
      "text/plain": [
       "'am'"
      ]
     },
     "execution_count": 34,
     "metadata": {},
     "output_type": "execute_result"
    }
   ],
   "source": [
    "last_letters"
   ]
  },
  {
   "cell_type": "code",
   "execution_count": 35,
   "id": "4eb73c6c",
   "metadata": {},
   "outputs": [
    {
     "data": {
      "text/plain": [
       "'pam'"
      ]
     },
     "execution_count": 35,
     "metadata": {},
     "output_type": "execute_result"
    }
   ],
   "source": [
    "'p'+last_letters"
   ]
  },
  {
   "cell_type": "code",
   "execution_count": 36,
   "id": "346fb828",
   "metadata": {},
   "outputs": [],
   "source": [
    "x = 'Hello World'"
   ]
  },
  {
   "cell_type": "code",
   "execution_count": 37,
   "id": "cf8b6a67",
   "metadata": {},
   "outputs": [
    {
     "data": {
      "text/plain": [
       "'Hello Worldit is beautiful outside'"
      ]
     },
     "execution_count": 37,
     "metadata": {},
     "output_type": "execute_result"
    }
   ],
   "source": [
    "x+\"it is beautiful outside\""
   ]
  },
  {
   "cell_type": "code",
   "execution_count": 40,
   "id": "adabac10",
   "metadata": {},
   "outputs": [],
   "source": [
    "x =x +\"it is beautiful outside\""
   ]
  },
  {
   "cell_type": "code",
   "execution_count": 39,
   "id": "966d8f9d",
   "metadata": {},
   "outputs": [
    {
     "data": {
      "text/plain": [
       "'Hello Worldit is beautiful outside'"
      ]
     },
     "execution_count": 39,
     "metadata": {},
     "output_type": "execute_result"
    }
   ],
   "source": [
    "X"
   ]
  },
  {
   "cell_type": "code",
   "execution_count": 41,
   "id": "1dd3fa00",
   "metadata": {},
   "outputs": [
    {
     "data": {
      "text/plain": [
       "'Hello Worldit is beautiful outside'"
      ]
     },
     "execution_count": 41,
     "metadata": {},
     "output_type": "execute_result"
    }
   ],
   "source": [
    "x"
   ]
  },
  {
   "cell_type": "code",
   "execution_count": 44,
   "id": "b156884c",
   "metadata": {},
   "outputs": [],
   "source": [
    "letter = 10"
   ]
  },
  {
   "cell_type": "code",
   "execution_count": 45,
   "id": "cf5a20b1",
   "metadata": {},
   "outputs": [
    {
     "data": {
      "text/plain": [
       "100"
      ]
     },
     "execution_count": 45,
     "metadata": {},
     "output_type": "execute_result"
    }
   ],
   "source": [
    "letter * 10"
   ]
  },
  {
   "cell_type": "code",
   "execution_count": 46,
   "id": "f5df2c1a",
   "metadata": {},
   "outputs": [
    {
     "data": {
      "text/plain": [
       "5"
      ]
     },
     "execution_count": 46,
     "metadata": {},
     "output_type": "execute_result"
    }
   ],
   "source": [
    "2+3"
   ]
  },
  {
   "cell_type": "code",
   "execution_count": 47,
   "id": "6a851124",
   "metadata": {},
   "outputs": [
    {
     "data": {
      "text/plain": [
       "'23'"
      ]
     },
     "execution_count": 47,
     "metadata": {},
     "output_type": "execute_result"
    }
   ],
   "source": [
    "'2'+'3'"
   ]
  },
  {
   "cell_type": "code",
   "execution_count": 48,
   "id": "e391e01e",
   "metadata": {},
   "outputs": [],
   "source": [
    "x= 'Hello World'"
   ]
  },
  {
   "cell_type": "code",
   "execution_count": 49,
   "id": "800f0308",
   "metadata": {},
   "outputs": [
    {
     "data": {
      "text/plain": [
       "'HELLO WORLD'"
      ]
     },
     "execution_count": 49,
     "metadata": {},
     "output_type": "execute_result"
    }
   ],
   "source": [
    "x.upper()"
   ]
  },
  {
   "cell_type": "code",
   "execution_count": 50,
   "id": "85c18459",
   "metadata": {},
   "outputs": [
    {
     "data": {
      "text/plain": [
       "['Hello', 'World']"
      ]
     },
     "execution_count": 50,
     "metadata": {},
     "output_type": "execute_result"
    }
   ],
   "source": [
    "x.split()"
   ]
  },
  {
   "cell_type": "code",
   "execution_count": 51,
   "id": "cb2f5799",
   "metadata": {},
   "outputs": [],
   "source": [
    "x='Hi this is a string'"
   ]
  },
  {
   "cell_type": "code",
   "execution_count": 52,
   "id": "5024be85",
   "metadata": {},
   "outputs": [
    {
     "data": {
      "text/plain": [
       "['Hi', 'this', 'is', 'a', 'string']"
      ]
     },
     "execution_count": 52,
     "metadata": {},
     "output_type": "execute_result"
    }
   ],
   "source": [
    "x.split()"
   ]
  },
  {
   "cell_type": "code",
   "execution_count": 54,
   "id": "c1b37560",
   "metadata": {},
   "outputs": [
    {
     "data": {
      "text/plain": [
       "['H', ' th', 's ', 's a str', 'ng']"
      ]
     },
     "execution_count": 54,
     "metadata": {},
     "output_type": "execute_result"
    }
   ],
   "source": [
    "x.split('i')"
   ]
  },
  {
   "cell_type": "code",
   "execution_count": null,
   "id": "0c8773d7",
   "metadata": {},
   "outputs": [],
   "source": []
  }
 ],
 "metadata": {
  "kernelspec": {
   "display_name": "Python 3 (ipykernel)",
   "language": "python",
   "name": "python3"
  },
  "language_info": {
   "codemirror_mode": {
    "name": "ipython",
    "version": 3
   },
   "file_extension": ".py",
   "mimetype": "text/x-python",
   "name": "python",
   "nbconvert_exporter": "python",
   "pygments_lexer": "ipython3",
   "version": "3.10.9"
  }
 },
 "nbformat": 4,
 "nbformat_minor": 5
}
